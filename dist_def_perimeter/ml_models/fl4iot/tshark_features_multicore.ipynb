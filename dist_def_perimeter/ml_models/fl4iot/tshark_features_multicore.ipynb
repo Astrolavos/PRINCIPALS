{
 "cells": [
  {
   "cell_type": "code",
   "execution_count": 22,
   "id": "63e18ac3-db1c-45d3-9e58-7ee335264d1a",
   "metadata": {},
   "outputs": [],
   "source": [
    "import xml.etree.ElementTree as ET\n",
    "import time\n",
    "import pickle\n",
    "import pandas as pd\n",
    "import seaborn as sns\n",
    "import glob\n",
    "import multiprocessing\n",
    "import os\n",
    "import numpy as np"
   ]
  },
  {
   "cell_type": "code",
   "execution_count": 2,
   "id": "a7394512-dbca-4d06-ab76-f5cedf4b6e38",
   "metadata": {},
   "outputs": [],
   "source": [
    "dir_path=\"/data/thomas/Principals/FL/deployment/iotlab_data/pcap_features/pdml/\"\n",
    "number_of_cores=40\n",
    "IP_SUBNET = \"192.168.\"\n",
    "OUTPUT_DIR = \"/data/thomas/Principals/FL/deployment/iotlab_data/pcap_features/features\""
   ]
  },
  {
   "cell_type": "code",
   "execution_count": 3,
   "id": "656a858a-1ff6-4523-a584-9946e9e07c6a",
   "metadata": {},
   "outputs": [],
   "source": [
    "for pdml_file in glob.glob(dir_path+'/*.pdml'):\n",
    "    continue"
   ]
  },
  {
   "cell_type": "code",
   "execution_count": 4,
   "id": "6966f81e-f578-416a-9443-6ad01ba8b250",
   "metadata": {},
   "outputs": [],
   "source": [
    "def recursive_lookup(element):\n",
    "    res = []\n",
    "    for child in element.findall('field'):\n",
    "        field_name = child.get('name')\n",
    "        res.append(field_name)\n",
    "        res.extend(recursive_lookup(child))\n",
    "    return res    "
   ]
  },
  {
   "cell_type": "code",
   "execution_count": 5,
   "id": "252a8df7-c13f-4c20-82e9-dbd7efdcc8ad",
   "metadata": {},
   "outputs": [],
   "source": [
    "def extract_field_names(element):\n",
    "    # Initialize a list to store results\n",
    "    res = []\n",
    "    ip = 0\n",
    "    \n",
    "    # Iterate over child elements\n",
    "    for proto in element.findall('proto'):\n",
    "        for child in proto.findall('field'):\n",
    "            field_name = child.get('name')\n",
    "            res.append(field_name)\n",
    "            if field_name == 'ip.src':\n",
    "                src = child.get('show')\n",
    "                if src.startswith(IP_SUBNET):\n",
    "                    ip = src\n",
    "            if field_name == 'ip.dst':\n",
    "                dst = child.get('show')\n",
    "                if dst.startswith(IP_SUBNET):\n",
    "                    ip = dst\n",
    "            \n",
    "            res.extend(recursive_lookup(child))\n",
    "    return ip, set(res)"
   ]
  },
  {
   "cell_type": "code",
   "execution_count": 6,
   "id": "9d97c280-e231-4325-b870-0c735bbd3d43",
   "metadata": {},
   "outputs": [],
   "source": [
    "def fields_per_ip_per_file(file):\n",
    "    start_time = time.time()\n",
    "    res={}\n",
    "    with open(file, 'rb') as f:\n",
    "        context = ET.iterparse(f, events=('start', 'end'))\n",
    "        _, root = next(context)  # get root element\n",
    "        total = 0\n",
    "        for event, elem in context:\n",
    "            if event == 'end' and elem.tag == 'packet':\n",
    "                ip, fields = extract_field_names(elem)\n",
    "                if ip in res:\n",
    "                    res[ip] = res[ip].union(fields)\n",
    "                else:\n",
    "                    res[ip] = fields\n",
    "                root.clear()\n",
    "                total += 1\n",
    "    #print(total, time.time() - start_time)\n",
    "    return res\n",
    "    "
   ]
  },
  {
   "cell_type": "code",
   "execution_count": 7,
   "id": "d7163155-bc64-450c-b55e-17842874da0d",
   "metadata": {},
   "outputs": [],
   "source": [
    "def combine_fields_different_files(dict_list):\n",
    "    res = {}\n",
    "    for d in dict_list:\n",
    "        for ip,fields in d.items():\n",
    "            if ip in res:\n",
    "                res[ip] = res[ip].union(fields)\n",
    "            else:\n",
    "                res[ip] = fields\n",
    "    return res        "
   ]
  },
  {
   "cell_type": "code",
   "execution_count": 8,
   "id": "9d0267dd-efc9-4fde-9ace-466ce072c217",
   "metadata": {},
   "outputs": [],
   "source": [
    "def get_all_unique_fields(fields_per_ip_dict):\n",
    "    unique_f = set([])\n",
    "    for ip, fields in fields_per_ip_dict.items():\n",
    "        unique_f = unique_f.union(fields)\n",
    "    return unique_f"
   ]
  },
  {
   "cell_type": "code",
   "execution_count": null,
   "id": "d75373ba-59c6-4c99-b419-a2e0c772e0c3",
   "metadata": {},
   "outputs": [],
   "source": [
    "with multiprocessing.Pool(processes=number_of_cores) as pool:\n",
    "    # Submit tasks asynchronously\n",
    "    results = [pool.apply_async(fields_per_ip_per_file, args=(pdml_file,)) for pdml_file in glob.glob(dir_path+'/*.pdml')]\n",
    "\n",
    "    # Wait for all results to complete\n",
    "    for result in results:\n",
    "        result.get() "
   ]
  },
  {
   "cell_type": "code",
   "execution_count": 15,
   "id": "fbe43162-0055-4bba-8609-d4009243600e",
   "metadata": {},
   "outputs": [],
   "source": [
    "all_fields_per_ip = combine_fields_different_files([result.get() for result in results])\n",
    "all_unique_fields = get_all_unique_fields(all_fields_per_ip)"
   ]
  },
  {
   "cell_type": "code",
   "execution_count": 16,
   "id": "06a008d5-1149-4915-89de-70a5b1cf82a9",
   "metadata": {},
   "outputs": [],
   "source": [
    "def recursive_lookup_features(element):\n",
    "    res = {}\n",
    "    for child in element.findall('field'):\n",
    "        field_name = child.get('name')\n",
    "        field_value = child.get('show')\n",
    "        res[field_name] = field_value\n",
    "        res.update(recursive_lookup_features(child))\n",
    "    return res   "
   ]
  },
  {
   "cell_type": "code",
   "execution_count": 17,
   "id": "ed0c2c09-3068-4d8d-a40a-0307d64690e2",
   "metadata": {},
   "outputs": [],
   "source": [
    "def extract_field_name_value(element):\n",
    "    # Initialize a list to store results\n",
    "    res = {}\n",
    "    ip = 0\n",
    "    \n",
    "    # Iterate over child elements\n",
    "    for proto in element.findall('proto'):\n",
    "        for child in proto.findall('field'):\n",
    "            field_name = child.get('name')\n",
    "            value = child.get('show')\n",
    "            res[field_name] = value\n",
    "            if field_name == 'ip.src':\n",
    "                src = child.get('show')\n",
    "                if src.startswith(IP_SUBNET):\n",
    "                    ip = src\n",
    "            if field_name == 'ip.dst':\n",
    "                dst = child.get('show')\n",
    "                if dst.startswith(IP_SUBNET):\n",
    "                    ip = dst\n",
    "            \n",
    "            res.update(recursive_lookup_features(child))\n",
    "    res['device_id'] = ip\n",
    "    return res"
   ]
  },
  {
   "cell_type": "code",
   "execution_count": 19,
   "id": "68f001f7-65cd-4cbd-8248-d3c9f0c6ff76",
   "metadata": {},
   "outputs": [],
   "source": [
    "def features_per_packet_per_file(unique_fields,file):\n",
    "    res=[]\n",
    "    with open(file, 'rb') as f:\n",
    "        context = ET.iterparse(f, events=('start', 'end'))\n",
    "        _, root = next(context)  # get root element\n",
    "        total = 0\n",
    "        for event, elem in context:\n",
    "            if event == 'end' and elem.tag == 'packet':\n",
    "                res.append(extract_field_name_value(elem))\n",
    "                root.clear()\n",
    "                total += 1\n",
    "    df = pd.DataFrame(res)\n",
    "    missing_columns = [col for col in unique_fields if col not in df.columns]\n",
    "    for col in missing_columns:\n",
    "        df[col] = np.nan\n",
    "    filename = file.split('/')[-1].replace('pdml','csv')\n",
    "    os.makedirs(OUTPUT_DIR, exist_ok=True)\n",
    "    output_filename = f\"{OUTPUT_DIR}/{filename}\"\n",
    "    df = df[unique_fields] #fix the order of features to be always the same in the csv\n",
    "    df.to_csv(output_filename, index=False) \n",
    "    return True"
   ]
  },
  {
   "cell_type": "code",
   "execution_count": null,
   "id": "56327b37-1387-46b4-a58f-80e1269c0069",
   "metadata": {},
   "outputs": [],
   "source": [
    "with multiprocessing.Pool(processes=number_of_cores) as pool:\n",
    "    results = [pool.apply_async(features_per_packet_per_file, args=(all_unique_fields,pdml_file,)) for pdml_file in glob.glob(dir_path+'/*.pdml')]\n",
    "\n",
    "    for result in results:\n",
    "        result.get()"
   ]
  }
 ],
 "metadata": {
  "kernelspec": {
   "display_name": "Python 3",
   "language": "python",
   "name": "python3"
  },
  "language_info": {
   "codemirror_mode": {
    "name": "ipython",
    "version": 3
   },
   "file_extension": ".py",
   "mimetype": "text/x-python",
   "name": "python",
   "nbconvert_exporter": "python",
   "pygments_lexer": "ipython3",
   "version": "3.6.9"
  }
 },
 "nbformat": 4,
 "nbformat_minor": 5
}
