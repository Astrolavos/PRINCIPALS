{
 "cells": [
  {
   "cell_type": "markdown",
   "id": "4fe12fe0-1505-4682-a251-d0ea6fba437b",
   "metadata": {},
   "source": [
    "## Features for NBaIOT"
   ]
  },
  {
   "cell_type": "code",
   "execution_count": 10,
   "id": "bc18d72a-5319-47f1-8083-43d6f92df1d2",
   "metadata": {},
   "outputs": [],
   "source": [
    "import os\n",
    "import urllib\n",
    "import zipfile\n",
    "import pandas as pd\n",
    "import numpy as np\n",
    "import pickle\n",
    "import glob\n",
    "import scipy.sparse"
   ]
  },
  {
   "cell_type": "code",
   "execution_count": 11,
   "id": "9e5b00c1-712d-4b7b-b827-9ef5e8af3ae5",
   "metadata": {},
   "outputs": [],
   "source": [
    "def download_nbaiot():\n",
    "    device_list = [\n",
    "        \"Danmini_Doorbell\",\n",
    "        \"Ecobee_Thermostat\",\n",
    "        \"Ennio_Doorbell\",\n",
    "        \"Philips_B120N10_Baby_Monitor\",\n",
    "        \"Provision_PT_737E_Security_Camera\",\n",
    "        \"Provision_PT_838_Security_Camera\",\n",
    "        \"Samsung_SNH_1011_N_Webcam\",\n",
    "        \"SimpleHome_XCS7_1002_WHT_Security_Camera\",\n",
    "        \"SimpleHome_XCS7_1003_WHT_Security_Camera\",\n",
    "    ]\n",
    "    for d in device_list:\n",
    "        url_root = \"https://fediot.s3.us-west-1.amazonaws.com/fediot\"\n",
    "        url = os.path.join(url_root, (d + \".zip\"))\n",
    "        saved_path = os.path.join(\"/data/thomas/Principals/testcases/FL4IOT/data/NBaIOT\", (d + \".zip\"))\n",
    "        urllib.request.urlretrieve(url, saved_path)\n",
    "        with zipfile.ZipFile(saved_path, \"r\") as f:\n",
    "            f.extractall(\"/data/thomas/Principals/testcases/FL4IOT/data/NBaIOT\")"
   ]
  },
  {
   "cell_type": "code",
   "execution_count": 12,
   "id": "9fccca4f-bb33-40e1-8c79-29cae0c90f19",
   "metadata": {},
   "outputs": [],
   "source": [
    "def get_data_nbaiot():\n",
    "    device_list = [\n",
    "        \"Danmini_Doorbell\",\n",
    "        \"Ecobee_Thermostat\",\n",
    "        \"Ennio_Doorbell\",\n",
    "        \"Philips_B120N10_Baby_Monitor\",\n",
    "        \"Provision_PT_737E_Security_Camera\",\n",
    "        \"Provision_PT_838_Security_Camera\",\n",
    "        \"Samsung_SNH_1011_N_Webcam\",\n",
    "        \"SimpleHome_XCS7_1002_WHT_Security_Camera\",\n",
    "        \"SimpleHome_XCS7_1003_WHT_Security_Camera\",\n",
    "    ]\n",
    "    data = {}\n",
    "    i = 0\n",
    "    #max_dataset = np.loadtxt(\"/data/thomas/Principals/testcases/FL4IOT/data/NBaIOT/max_dataset.txt\")\n",
    "    #min_dataset = np.loadtxt(\"/data/thomas/Principals/testcases/FL4IOT/data/NBaIOT/min_dataset.txt\")\n",
    "    for d in device_list:\n",
    "        benign_data = pd.read_csv(os.path.join(\"/data/thomas/Principals/testcases/FL4IOT/data/NBaIOT\", d, \"benign_traffic.csv\"))\n",
    "        #benign_data = benign_data[:5000]\n",
    "        benign_data = np.array(benign_data)\n",
    "        benign_data[np.isnan(benign_data)] = 0\n",
    "        #benign_data = (benign_data - min_dataset) / (max_dataset - min_dataset)\n",
    "        data[d] = benign_data\n",
    "        i+=1\n",
    "    return data"
   ]
  },
  {
   "cell_type": "code",
   "execution_count": 13,
   "id": "f0f3db1d-70e2-41c4-b9b8-611b47ae852a",
   "metadata": {},
   "outputs": [],
   "source": [
    "def get_astrolavos_data(directory, min_samples=1000):\n",
    "    files = glob.glob(directory+\"/*\")\n",
    "    res = {}\n",
    "    for file in files:\n",
    "        #print(f\"Doing file {file}\")\n",
    "        with open(file, 'rb') as f:\n",
    "            loaded_data = np.array(pickle.load(f))\n",
    "        if loaded_data.shape[0] > min_samples:\n",
    "            res[number] = loaded_data\n",
    "            number += 1\n",
    "    return res\n",
    "    "
   ]
  },
  {
   "cell_type": "code",
   "execution_count": 56,
   "id": "9995da2a-4007-4e2a-87a3-d0fd1cc07351",
   "metadata": {},
   "outputs": [],
   "source": [
    "def get_astrolavos_data2(directory):\n",
    "    legend = {\n",
    "        \"192.168.0.21\" : \"RokuTV\",\n",
    "        \"192.168.0.43\" : \"GoogleHome\",\n",
    "        \"192.168.0.10\" : \"NestCamera\",\n",
    "        \"192.168.0.19\" : \"RingDoorbell\",\n",
    "        \"192.168.0.48\" : \"Roomba\",\n",
    "        \"192.168.0.44\" : \"BoseSoundTouch10\",\n",
    "        \"192.168.0.25\" : \"AppleTV(4thGen)\",\n",
    "        \"192.168.0.12\" : \"BelkinWeMoMotionSensor\"\n",
    "    }\n",
    "    \n",
    "    files = glob.glob(directory+\"/*.npz\")\n",
    "    res = {}\n",
    "    for f in files:\n",
    "        dev = legend[f.split(\"/\")[-1].split(\"_\")[0]]\n",
    "        sparse_bigrams = scipy.sparse.load_npz(f)[:10000,:]\n",
    "        res[dev] = sparse_bigrams.todense()\n",
    "    return res\n"
   ]
  }
 ],
 "metadata": {
  "kernelspec": {
   "display_name": "Python 3",
   "language": "python",
   "name": "python3"
  },
  "language_info": {
   "codemirror_mode": {
    "name": "ipython",
    "version": 3
   },
   "file_extension": ".py",
   "mimetype": "text/x-python",
   "name": "python",
   "nbconvert_exporter": "python",
   "pygments_lexer": "ipython3",
   "version": "3.6.9"
  }
 },
 "nbformat": 4,
 "nbformat_minor": 5
}
